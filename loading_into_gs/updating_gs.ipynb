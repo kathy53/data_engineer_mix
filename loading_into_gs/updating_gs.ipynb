{
 "cells": [
  {
   "cell_type": "markdown",
   "id": "ef52e024-ffb9-4fc2-a8e0-10ddac38effc",
   "metadata": {},
   "source": [
    "# Uploadinf data in a GS using python\n",
    "## Set up\n",
    "1. Loading packages\n",
    "2. Loading credentials\n",
    "3. Open the GS\n",
    "\n",
    "## Uploading data from a CSV file without modifications in a Google Sheet worksheet\n",
    "4. Reading file\n",
    "5. uploading data in a GS\n",
    "\n",
    "## Upldoading data into specific GS-cells and preprocess data\n",
    "### Preprocessing data\n",
    "6. Reading file\n",
    "### Updating data"
   ]
  },
  {
   "cell_type": "markdown",
   "id": "8b762e00-9c02-44a4-8050-9f105bae0c29",
   "metadata": {
    "tags": []
   },
   "source": [
    "### Set up"
   ]
  },
  {
   "cell_type": "code",
   "execution_count": 175,
   "id": "593e4d14-ea68-4358-a7cf-8eba9f014995",
   "metadata": {},
   "outputs": [],
   "source": [
    "import gspread\n",
    "from oauth2client.service_account import ServiceAccountCredentials\n",
    "from datetime import datetime\n",
    "import pandas as pd\n",
    "import numpy as np\n",
    "import ast"
   ]
  },
  {
   "cell_type": "code",
   "execution_count": 1,
   "id": "2a3c525c-49cc-4d42-90dd-1b937da85a07",
   "metadata": {},
   "outputs": [],
   "source": [
    "scope = [\n",
    "    \"https://spreadsheets.google.com/feeds\",\n",
    "    \"https://www.googleapis.com/auth/spreadsheets\",\n",
    "    \"https://www.googleapis.com/auth/drive.file\",\n",
    "    \"https://www.googleapis.com/auth/drive\",\n",
    "]\n",
    "credentials = ServiceAccountCredentials.from_json_keyfile_name(\n",
    "    \"client_secret_cred.json\", scope\n",
    ")"
   ]
  },
  {
   "cell_type": "code",
   "execution_count": 235,
   "id": "31ddd3a2-f8cc-4f58-aca8-2e34684a7b6f",
   "metadata": {},
   "outputs": [],
   "source": [
    "client = gspread.authorize(credentials)\n",
    "# open the GS\n",
    "spreadsheet = client.open(\"data_nd_business\")\n",
    "worksheet = spreadsheet.worksheet(\"sheet1\")"
   ]
  },
  {
   "cell_type": "markdown",
   "id": "196c4034-1b84-41dc-b416-99f0bdfcaaf2",
   "metadata": {
    "tags": []
   },
   "source": [
    "### Uploading data from a CSV file without modifications in a Google Sheet worksheet"
   ]
  },
  {
   "cell_type": "code",
   "execution_count": null,
   "id": "a9ffd166-a678-4b8e-84a5-2f010a7a94ff",
   "metadata": {},
   "outputs": [],
   "source": [
    "# with open(\"original_data_1.csv\", \"r\") as f:\n",
    "#     content = f.read()\n",
    "# %%capture\n",
    "# client.import_csv(spreadsheet.id, data=content)"
   ]
  },
  {
   "cell_type": "code",
   "execution_count": 269,
   "id": "fa59db21-de9d-4f35-8ddc-657d2c5472ef",
   "metadata": {},
   "outputs": [],
   "source": [
    "df = pd.read_csv(\"original_data_1.csv\", sep=',')\n",
    "df = df.replace(np.nan, None)\n",
    "content=[list(df.columns)]\n",
    "content.extend(df.values.tolist())"
   ]
  },
  {
   "cell_type": "code",
   "execution_count": 270,
   "id": "5c005189-5a02-411c-abba-ba7097ed46ae",
   "metadata": {},
   "outputs": [
    {
     "data": {
      "text/plain": [
       "{'spreadsheetId': '1j-gYHSeBScFURw8oo_79CFOLqDsKMoMBE6rOB5F_tSk',\n",
       " 'updatedRange': 'sheet1!A1:G148',\n",
       " 'updatedRows': 148,\n",
       " 'updatedColumns': 7,\n",
       " 'updatedCells': 739}"
      ]
     },
     "execution_count": 270,
     "metadata": {},
     "output_type": "execute_result"
    }
   ],
   "source": [
    "worksheet.update(content)"
   ]
  },
  {
   "cell_type": "markdown",
   "id": "3b8e3bb7-fa48-4e65-a7b2-3605e4410011",
   "metadata": {},
   "source": [
    "### Upldoading data into specific GS-cells and preprocess data "
   ]
  },
  {
   "cell_type": "markdown",
   "id": "1a50edfd-e68a-41ef-8362-fb6aa205246e",
   "metadata": {},
   "source": [
    "__Reading CSV file__ with data to fill out the template"
   ]
  },
  {
   "cell_type": "code",
   "execution_count": 311,
   "id": "73511616-7899-433b-a3d0-223d9623c245",
   "metadata": {},
   "outputs": [
    {
     "data": {
      "text/html": [
       "<div>\n",
       "<style scoped>\n",
       "    .dataframe tbody tr th:only-of-type {\n",
       "        vertical-align: middle;\n",
       "    }\n",
       "\n",
       "    .dataframe tbody tr th {\n",
       "        vertical-align: top;\n",
       "    }\n",
       "\n",
       "    .dataframe thead th {\n",
       "        text-align: right;\n",
       "    }\n",
       "</style>\n",
       "<table border=\"1\" class=\"dataframe\">\n",
       "  <thead>\n",
       "    <tr style=\"text-align: right;\">\n",
       "      <th></th>\n",
       "      <th>id</th>\n",
       "      <th>id_business</th>\n",
       "      <th>commercial_registered_agent</th>\n",
       "      <th>registered_agent</th>\n",
       "      <th>owners</th>\n",
       "      <th>business_name</th>\n",
       "      <th>status</th>\n",
       "    </tr>\n",
       "  </thead>\n",
       "  <tbody>\n",
       "    <tr>\n",
       "      <th>0</th>\n",
       "      <td>322123</td>\n",
       "      <td>2</td>\n",
       "      <td>NaN</td>\n",
       "      <td>NaN</td>\n",
       "      <td>Elite Golf, LLC</td>\n",
       "      <td>['X Golf Minot', 'Trade Name']</td>\n",
       "      <td>Active</td>\n",
       "    </tr>\n",
       "    <tr>\n",
       "      <th>1</th>\n",
       "      <td>336584</td>\n",
       "      <td>3</td>\n",
       "      <td>NaN</td>\n",
       "      <td>NaN</td>\n",
       "      <td>Elite Golf 2, LLC</td>\n",
       "      <td>['X Golf Bismarck', 'Trade Name']</td>\n",
       "      <td>Active</td>\n",
       "    </tr>\n",
       "    <tr>\n",
       "      <th>2</th>\n",
       "      <td>144321</td>\n",
       "      <td>4</td>\n",
       "      <td>CORPORATION SERVICE COMPANY\\n418 N 2ND ST\\nBIS...</td>\n",
       "      <td>NaN</td>\n",
       "      <td>NaN</td>\n",
       "      <td>['ATOS HEALTHCARE SERVICES, LLC', 'Limited Lia...</td>\n",
       "      <td>Active</td>\n",
       "    </tr>\n",
       "    <tr>\n",
       "      <th>3</th>\n",
       "      <td>349089</td>\n",
       "      <td>1</td>\n",
       "      <td>NaN</td>\n",
       "      <td>ZANE  SCHOBINGER\\n800 11TH AVE W\\nDICKINSON, N...</td>\n",
       "      <td>NaN</td>\n",
       "      <td>['XYZ Services LLC', 'Limited Liability Compan...</td>\n",
       "      <td>Active</td>\n",
       "    </tr>\n",
       "    <tr>\n",
       "      <th>4</th>\n",
       "      <td>111130</td>\n",
       "      <td>3</td>\n",
       "      <td>C T CORPORATION SYSTEM\\n120 W SWEET AVE\\nBISMA...</td>\n",
       "      <td>NaN</td>\n",
       "      <td>NaN</td>\n",
       "      <td>['XYLEM WATER SOLUTIONS U.S.A., INC.', 'Corpor...</td>\n",
       "      <td>Active</td>\n",
       "    </tr>\n",
       "  </tbody>\n",
       "</table>\n",
       "</div>"
      ],
      "text/plain": [
       "       id  id_business                        commercial_registered_agent  \\\n",
       "0  322123            2                                                NaN   \n",
       "1  336584            3                                                NaN   \n",
       "2  144321            4  CORPORATION SERVICE COMPANY\\n418 N 2ND ST\\nBIS...   \n",
       "3  349089            1                                                NaN   \n",
       "4  111130            3  C T CORPORATION SYSTEM\\n120 W SWEET AVE\\nBISMA...   \n",
       "\n",
       "                                    registered_agent             owners  \\\n",
       "0                                                NaN    Elite Golf, LLC   \n",
       "1                                                NaN  Elite Golf 2, LLC   \n",
       "2                                                NaN                NaN   \n",
       "3  ZANE  SCHOBINGER\\n800 11TH AVE W\\nDICKINSON, N...                NaN   \n",
       "4                                                NaN                NaN   \n",
       "\n",
       "                                       business_name  status  \n",
       "0                     ['X Golf Minot', 'Trade Name']  Active  \n",
       "1                  ['X Golf Bismarck', 'Trade Name']  Active  \n",
       "2  ['ATOS HEALTHCARE SERVICES, LLC', 'Limited Lia...  Active  \n",
       "3  ['XYZ Services LLC', 'Limited Liability Compan...  Active  \n",
       "4  ['XYLEM WATER SOLUTIONS U.S.A., INC.', 'Corpor...  Active  "
      ]
     },
     "execution_count": 311,
     "metadata": {},
     "output_type": "execute_result"
    }
   ],
   "source": [
    "df_to_fill_template = pd.read_csv(\"original_data_1.csv\")\n",
    "df_to_fill_template.head()"
   ]
  },
  {
   "cell_type": "code",
   "execution_count": 312,
   "id": "40a42583-0c66-407a-a36f-dd59b28db73e",
   "metadata": {},
   "outputs": [
    {
     "name": "stdout",
     "output_type": "stream",
     "text": [
      "################# unique <bound method IndexOpsMixin.value_counts of 0      322123\n",
      "1      336584\n",
      "2      144321\n",
      "3      349089\n",
      "4      111130\n",
      "        ...  \n",
      "142    103679\n",
      "143    352364\n",
      "144    144320\n",
      "145    319429\n",
      "146    162412\n",
      "Name: id, Length: 147, dtype: int64>\n",
      "################# INFO\n",
      "<class 'pandas.core.frame.DataFrame'>\n",
      "RangeIndex: 147 entries, 0 to 146\n",
      "Data columns (total 7 columns):\n",
      " #   Column                       Non-Null Count  Dtype \n",
      "---  ------                       --------------  ----- \n",
      " 0   id                           147 non-null    int64 \n",
      " 1   id_business                  147 non-null    int64 \n",
      " 2   commercial_registered_agent  65 non-null     object\n",
      " 3   registered_agent             49 non-null     object\n",
      " 4   owners                       30 non-null     object\n",
      " 5   business_name                147 non-null    object\n",
      " 6   status                       147 non-null    object\n",
      "dtypes: int64(2), object(5)\n",
      "memory usage: 8.2+ KB\n",
      "None\n"
     ]
    }
   ],
   "source": [
    "print(\"################# unique\", df_to_fill_template.id.value_counts)\n",
    "print(\"################# INFO\")\n",
    "print(df_to_fill_template.info())"
   ]
  },
  {
   "cell_type": "code",
   "execution_count": 313,
   "id": "6c6a75ee-6bf9-4bec-ac97-96f5bf2454fa",
   "metadata": {},
   "outputs": [],
   "source": [
    "df_to_fill_template = df_to_fill_template.replace(np.nan, None)"
   ]
  },
  {
   "cell_type": "markdown",
   "id": "dc25c286-021d-462b-b567-26ebb16865d5",
   "metadata": {},
   "source": [
    "__Reading data from a template__ GS worksheet"
   ]
  },
  {
   "cell_type": "code",
   "execution_count": 314,
   "id": "bad0a2e1-0700-4dc2-a0e6-8e2631f63974",
   "metadata": {},
   "outputs": [],
   "source": [
    "worksheet_template = spreadsheet.worksheet(\"data_nd_business\")"
   ]
  },
  {
   "cell_type": "code",
   "execution_count": 315,
   "id": "74f981ac-4555-4450-8369-2b22ff8a9806",
   "metadata": {},
   "outputs": [
    {
     "data": {
      "text/html": [
       "<div>\n",
       "<style scoped>\n",
       "    .dataframe tbody tr th:only-of-type {\n",
       "        vertical-align: middle;\n",
       "    }\n",
       "\n",
       "    .dataframe tbody tr th {\n",
       "        vertical-align: top;\n",
       "    }\n",
       "\n",
       "    .dataframe thead th {\n",
       "        text-align: right;\n",
       "    }\n",
       "</style>\n",
       "<table border=\"1\" class=\"dataframe\">\n",
       "  <thead>\n",
       "    <tr style=\"text-align: right;\">\n",
       "      <th></th>\n",
       "      <th>id</th>\n",
       "      <th>id_business</th>\n",
       "      <th>commercial_registered_agent</th>\n",
       "      <th>registered_agent</th>\n",
       "      <th>owners</th>\n",
       "      <th>business_name</th>\n",
       "      <th>status</th>\n",
       "    </tr>\n",
       "  </thead>\n",
       "  <tbody>\n",
       "    <tr>\n",
       "      <th>0</th>\n",
       "      <td>105993</td>\n",
       "      <td>1</td>\n",
       "      <td></td>\n",
       "      <td></td>\n",
       "      <td></td>\n",
       "      <td></td>\n",
       "      <td></td>\n",
       "    </tr>\n",
       "    <tr>\n",
       "      <th>1</th>\n",
       "      <td>289003</td>\n",
       "      <td>2</td>\n",
       "      <td></td>\n",
       "      <td></td>\n",
       "      <td></td>\n",
       "      <td></td>\n",
       "      <td></td>\n",
       "    </tr>\n",
       "    <tr>\n",
       "      <th>2</th>\n",
       "      <td>329549</td>\n",
       "      <td>3</td>\n",
       "      <td></td>\n",
       "      <td></td>\n",
       "      <td></td>\n",
       "      <td></td>\n",
       "      <td></td>\n",
       "    </tr>\n",
       "    <tr>\n",
       "      <th>3</th>\n",
       "      <td>357555</td>\n",
       "      <td>4</td>\n",
       "      <td></td>\n",
       "      <td></td>\n",
       "      <td></td>\n",
       "      <td></td>\n",
       "      <td></td>\n",
       "    </tr>\n",
       "    <tr>\n",
       "      <th>4</th>\n",
       "      <td>103327</td>\n",
       "      <td>1</td>\n",
       "      <td></td>\n",
       "      <td></td>\n",
       "      <td></td>\n",
       "      <td></td>\n",
       "      <td></td>\n",
       "    </tr>\n",
       "  </tbody>\n",
       "</table>\n",
       "</div>"
      ],
      "text/plain": [
       "       id  id_business commercial_registered_agent registered_agent owners  \\\n",
       "0  105993            1                                                       \n",
       "1  289003            2                                                       \n",
       "2  329549            3                                                       \n",
       "3  357555            4                                                       \n",
       "4  103327            1                                                       \n",
       "\n",
       "  business_name status  \n",
       "0                       \n",
       "1                       \n",
       "2                       \n",
       "3                       \n",
       "4                       "
      ]
     },
     "execution_count": 315,
     "metadata": {},
     "output_type": "execute_result"
    }
   ],
   "source": [
    "df_template = pd.DataFrame(worksheet_template.get_all_records())\n",
    "df_template.head()"
   ]
  },
  {
   "cell_type": "markdown",
   "id": "b3e472ad-70eb-4cee-8a1d-df2ca9ea2c3f",
   "metadata": {},
   "source": [
    "__Creating a DataFrame by combining the template and the data from the CSV file__ df_to_fill_template and df_template"
   ]
  },
  {
   "cell_type": "code",
   "execution_count": 316,
   "id": "83eea2f1-c276-4667-9247-164db43bc3dd",
   "metadata": {},
   "outputs": [],
   "source": [
    "data_df_to_fill_template = df_to_fill_template.set_index([\"id\", \"id_business\"])\n",
    "data_df_template = df_template.set_index([\"id\", \"id_business\"])\n"
   ]
  },
  {
   "cell_type": "code",
   "execution_count": 318,
   "id": "9f7524ee-3637-427f-b58a-953f81277ba3",
   "metadata": {},
   "outputs": [],
   "source": [
    "data = data_df_to_fill_template.loc[data_df_template.index,data_df_template.columns]\n",
    "data = data.reset_index()"
   ]
  },
  {
   "cell_type": "code",
   "execution_count": 321,
   "id": "bd448b4f-7112-4460-bd2e-9ca4e13f2e7c",
   "metadata": {},
   "outputs": [],
   "source": [
    "# creating a new worksheet\n",
    "date = datetime.today().strftime(\"%Y-%m-%d\")\n",
    "a,b = data.shape\n",
    "worksheet = spreadsheet.add_worksheet(title=date,rows=a, cols=b)"
   ]
  },
  {
   "cell_type": "code",
   "execution_count": 322,
   "id": "4587585a-8202-4d67-b522-33de6f48d112",
   "metadata": {},
   "outputs": [
    {
     "data": {
      "text/plain": [
       "{'spreadsheetId': '1j-gYHSeBScFURw8oo_79CFOLqDsKMoMBE6rOB5F_tSk',\n",
       " 'updatedRange': \"'2024-10-09'!A1:G148\",\n",
       " 'updatedRows': 148,\n",
       " 'updatedColumns': 7,\n",
       " 'updatedCells': 739}"
      ]
     },
     "execution_count": 322,
     "metadata": {},
     "output_type": "execute_result"
    }
   ],
   "source": [
    "data = data.replace(np.nan, None)\n",
    "content=[list(data.columns)]\n",
    "content.extend(data.values.tolist())\n",
    "\n",
    "worksheet.update(content)"
   ]
  },
  {
   "cell_type": "code",
   "execution_count": 151,
   "id": "d234e5d8-f9c9-405a-ae0a-2857d24cbb3b",
   "metadata": {},
   "outputs": [],
   "source": [
    "%%capture\n",
    "client.import_csv(spreadsheet.id, data=com_reg_agent_string)"
   ]
  },
  {
   "cell_type": "code",
   "execution_count": 180,
   "id": "b2d9a463-2ade-42e3-a19e-36ea3440ba3b",
   "metadata": {},
   "outputs": [
    {
     "data": {
      "text/html": [
       "<div>\n",
       "<style scoped>\n",
       "    .dataframe tbody tr th:only-of-type {\n",
       "        vertical-align: middle;\n",
       "    }\n",
       "\n",
       "    .dataframe tbody tr th {\n",
       "        vertical-align: top;\n",
       "    }\n",
       "\n",
       "    .dataframe thead th {\n",
       "        text-align: right;\n",
       "    }\n",
       "</style>\n",
       "<table border=\"1\" class=\"dataframe\">\n",
       "  <thead>\n",
       "    <tr style=\"text-align: right;\">\n",
       "      <th></th>\n",
       "      <th>commercial_registered_agent</th>\n",
       "      <th>registered_agent</th>\n",
       "      <th>owners</th>\n",
       "      <th>id</th>\n",
       "      <th>business_name</th>\n",
       "      <th>status</th>\n",
       "    </tr>\n",
       "  </thead>\n",
       "  <tbody>\n",
       "    <tr>\n",
       "      <th>6</th>\n",
       "      <td>None</td>\n",
       "      <td>None</td>\n",
       "      <td>Oech Foods LLC</td>\n",
       "      <td>352364</td>\n",
       "      <td>['X FOODS', 'Trade Name']</td>\n",
       "      <td>Active</td>\n",
       "    </tr>\n",
       "    <tr>\n",
       "      <th>10</th>\n",
       "      <td>None</td>\n",
       "      <td>None</td>\n",
       "      <td>Elite Golf, LLC</td>\n",
       "      <td>322123</td>\n",
       "      <td>['X Golf Minot', 'Trade Name']</td>\n",
       "      <td>Active</td>\n",
       "    </tr>\n",
       "    <tr>\n",
       "      <th>11</th>\n",
       "      <td>None</td>\n",
       "      <td>None</td>\n",
       "      <td>Elite Golf 2, LLC</td>\n",
       "      <td>336584</td>\n",
       "      <td>['X Golf Bismarck', 'Trade Name']</td>\n",
       "      <td>Active</td>\n",
       "    </tr>\n",
       "    <tr>\n",
       "      <th>21</th>\n",
       "      <td>None</td>\n",
       "      <td>None</td>\n",
       "      <td>HAWLEY REALTY, INC.</td>\n",
       "      <td>240582</td>\n",
       "      <td>['XTREME TROPHY PROPERTIES', 'Trade Name']</td>\n",
       "      <td>Active</td>\n",
       "    </tr>\n",
       "    <tr>\n",
       "      <th>29</th>\n",
       "      <td>None</td>\n",
       "      <td>None</td>\n",
       "      <td>XTREME ELECTRICAL SERVICES, INC.</td>\n",
       "      <td>244002</td>\n",
       "      <td>['X ELECTRIC', 'Trade Name']</td>\n",
       "      <td>Active</td>\n",
       "    </tr>\n",
       "  </tbody>\n",
       "</table>\n",
       "</div>"
      ],
      "text/plain": [
       "   commercial_registered_agent registered_agent  \\\n",
       "6                         None             None   \n",
       "10                        None             None   \n",
       "11                        None             None   \n",
       "21                        None             None   \n",
       "29                        None             None   \n",
       "\n",
       "                              owners      id  \\\n",
       "6                     Oech Foods LLC  352364   \n",
       "10                   Elite Golf, LLC  322123   \n",
       "11                 Elite Golf 2, LLC  336584   \n",
       "21               HAWLEY REALTY, INC.  240582   \n",
       "29  XTREME ELECTRICAL SERVICES, INC.  244002   \n",
       "\n",
       "                                 business_name  status  \n",
       "6                    ['X FOODS', 'Trade Name']  Active  \n",
       "10              ['X Golf Minot', 'Trade Name']  Active  \n",
       "11           ['X Golf Bismarck', 'Trade Name']  Active  \n",
       "21  ['XTREME TROPHY PROPERTIES', 'Trade Name']  Active  \n",
       "29                ['X ELECTRIC', 'Trade Name']  Active  "
      ]
     },
     "execution_count": 180,
     "metadata": {},
     "output_type": "execute_result"
    }
   ],
   "source": [
    "col_filter= [\"commercial_registered_agent\", \"registered_agent\", \"owners\"]\n",
    "worksheet= spreadsheet.worksheet(\"test_1\")\n",
    "for col in col_filter:\n",
    "    temp_df = df.loc[df[col].notnull()]\n",
    "    temp_data = temp_df.values.tolist()\n",
    "    \n",
    "    # worksheet.append_rows(temp_data)\n",
    "temp_df.head(5)    "
   ]
  },
  {
   "cell_type": "code",
   "execution_count": 163,
   "id": "dcd13ae8-c995-4290-8900-300334da4788",
   "metadata": {},
   "outputs": [],
   "source": [
    "# creating a new worksheet\n",
    "# date = datetime.today().strftime(\"%Y-%m-%d\")\n",
    "# worksheet = spreadsheet.add_worksheet(title=date,rows=150, cols=6)"
   ]
  },
  {
   "cell_type": "code",
   "execution_count": 144,
   "id": "f8ab5441-2112-4034-b549-b21e78c48781",
   "metadata": {},
   "outputs": [],
   "source": [
    "com_reg_agent = df_prep.loc[df_prep.commercial_registered_agent.notnull()]\n",
    "reg_agent = df_prep.loc[df_prep.registered_agent.notnull()]\n",
    "owners = df_prep.loc[df.owners.notnull()]\n",
    "\n",
    "rows_com_reg_agent,_ = com_reg_agent.shape\n",
    "rows_reg_agent,_ = com_reg_agent.shape\n",
    "rows_owners,_ = com_reg_agent.shape"
   ]
  }
 ],
 "metadata": {
  "kernelspec": {
   "display_name": "Python 3 (ipykernel)",
   "language": "python",
   "name": "python3"
  },
  "language_info": {
   "codemirror_mode": {
    "name": "ipython",
    "version": 3
   },
   "file_extension": ".py",
   "mimetype": "text/x-python",
   "name": "python",
   "nbconvert_exporter": "python",
   "pygments_lexer": "ipython3",
   "version": "3.8.18"
  }
 },
 "nbformat": 4,
 "nbformat_minor": 5
}
